{
 "cells": [
  {
   "cell_type": "markdown",
   "id": "92c6df33-3ce3-4422-a872-777426723d53",
   "metadata": {},
   "source": [
    "# Test Code and Snippets for Telegram API and Chat/Channel Scraping"
   ]
  },
  {
   "cell_type": "markdown",
   "id": "c15a8811-2ce4-4c7b-8954-03b73b5f027f",
   "metadata": {},
   "source": [
    "Authentication and API development tool can be accessed at https://my.telegram.org/auth\n",
    "\n",
    "# Telegram App Details\n",
    "--- TODO: Remove this when making repo public ---`\n",
    "\n",
    "- Short Name: TelegramTest\n",
    "- Test Configuration: 149.154.167.40:443\n",
    "- API ID: 23867482\n",
    "- api_hash: 7c99e3fd9ecfd7b8a4a0374436a046a9\n"
   ]
  },
  {
   "cell_type": "markdown",
   "id": "048a214c-4867-49a1-b2d7-ae0c22f15150",
   "metadata": {},
   "source": [
    "## Telethon\n",
    "Let's take a look at Telethon/Asynchio for scraping"
   ]
  },
  {
   "cell_type": "code",
   "execution_count": 5,
   "id": "9cdbf142-e664-4ba8-91dc-26cd0b9d69bc",
   "metadata": {},
   "outputs": [],
   "source": [
    "%%capture \n",
    "!pip install telethon\n",
    "!pip install pandas"
   ]
  },
  {
   "cell_type": "code",
   "execution_count": 150,
   "id": "986b729e-e462-4f2e-acf9-45c41f36146d",
   "metadata": {},
   "outputs": [],
   "source": [
    "from telethon.sync import TelegramClient\n",
    "import telethon.sync\n",
    "import pandas as pd\n",
    "import asyncio\n",
    "import datetime\n",
    "import pytz"
   ]
  },
  {
   "cell_type": "code",
   "execution_count": 40,
   "id": "17dc6232-d03f-4ae7-8e4e-c9c1a9bd603d",
   "metadata": {},
   "outputs": [],
   "source": [
    "# Credentials\n",
    "api_id = 23867482\n",
    "api_hash = '7c99e3fd9ecfd7b8a4a0374436a046a9'\n",
    "phone = '+38631882318'\n",
    "username = \"\""
   ]
  },
  {
   "cell_type": "markdown",
   "id": "6eb19825-1252-4bbd-84d6-df62d73d028f",
   "metadata": {},
   "source": [
    "### Code Snippets\n"
   ]
  },
  {
   "cell_type": "code",
   "execution_count": null,
   "id": "b32b83a8-941a-4e50-9c99-c1fffb7557f8",
   "metadata": {},
   "outputs": [],
   "source": [
    "# Asynchio Hello World / Semantics\n",
    "# Note: Asynchio syntax in jupyter >=7.0 has changed, you can now just call await from the top level in the notebook\n",
    "async def count():\n",
    "    print(\"One\")\n",
    "    await asyncio.sleep(1)\n",
    "    print(\"Two\")\n",
    "\n",
    "async def main():\n",
    "    await asyncio.gather(count(), count(), count())\n",
    "\n",
    "await main()\n",
    "\n",
    "#Snippet to Cancel current asyncio task\n",
    "#curr_task = asyncio.current_task()\n",
    "#curr_task.cancel()"
   ]
  },
  {
   "cell_type": "code",
   "execution_count": 48,
   "id": "24f0b495-9859-47a5-a569-4dd66a00388d",
   "metadata": {
    "collapsed": true,
    "jupyter": {
     "outputs_hidden": true
    },
    "tags": []
   },
   "outputs": [
    {
     "name": "stdin",
     "output_type": "stream",
     "text": [
      "Please enter your phone (or bot token):  √sf\n",
      "Please enter your phone (or bot token):  afaf\n",
      "Please enter your phone (or bot token):  afsafa\n",
      "Please enter your phone (or bot token):  asfasf\n",
      "Please enter your phone (or bot token):  +38631882318\n"
     ]
    },
    {
     "ename": "CancelledError",
     "evalue": "",
     "output_type": "error",
     "traceback": [
      "\u001b[0;31m---------------------------------------------------------------------------\u001b[0m",
      "\u001b[0;31mCancelledError\u001b[0m                            Traceback (most recent call last)",
      "Cell \u001b[0;32mIn [48], line 3\u001b[0m\n\u001b[1;32m      1\u001b[0m client \u001b[38;5;241m=\u001b[39m TelegramClient(\u001b[38;5;28;01mNone\u001b[39;00m, api_id, api_hash)\n\u001b[1;32m      2\u001b[0m \u001b[38;5;66;03m# client.connect()\u001b[39;00m\n\u001b[0;32m----> 3\u001b[0m \u001b[38;5;28;01mawait\u001b[39;00m client\u001b[38;5;241m.\u001b[39mstart()\n\u001b[1;32m      4\u001b[0m \u001b[38;5;28;01mawait\u001b[39;00m client\u001b[38;5;241m.\u001b[39msend_message(\u001b[38;5;124m'\u001b[39m\u001b[38;5;124mme\u001b[39m\u001b[38;5;124m'\u001b[39m, \u001b[38;5;124m'\u001b[39m\u001b[38;5;124mHello, world!\u001b[39m\u001b[38;5;124m'\u001b[39m)\n\u001b[1;32m      5\u001b[0m \u001b[38;5;28;01mawait\u001b[39;00m client\u001b[38;5;241m.\u001b[39mdisconnect()\n",
      "File \u001b[0;32m~/Library/Python/3.9/lib/python/site-packages/telethon/client/auth.py:190\u001b[0m, in \u001b[0;36mAuthMethods._start\u001b[0;34m(self, phone, password, bot_token, force_sms, code_callback, first_name, last_name, max_attempts)\u001b[0m\n\u001b[1;32m    187\u001b[0m attempts \u001b[38;5;241m=\u001b[39m \u001b[38;5;241m0\u001b[39m\n\u001b[1;32m    188\u001b[0m two_step_detected \u001b[38;5;241m=\u001b[39m \u001b[38;5;28;01mFalse\u001b[39;00m\n\u001b[0;32m--> 190\u001b[0m \u001b[38;5;28;01mawait\u001b[39;00m \u001b[38;5;28mself\u001b[39m\u001b[38;5;241m.\u001b[39msend_code_request(phone, force_sms\u001b[38;5;241m=\u001b[39mforce_sms)\n\u001b[1;32m    191\u001b[0m sign_up \u001b[38;5;241m=\u001b[39m \u001b[38;5;28;01mFalse\u001b[39;00m  \u001b[38;5;66;03m# assume login\u001b[39;00m\n\u001b[1;32m    192\u001b[0m \u001b[38;5;28;01mwhile\u001b[39;00m attempts \u001b[38;5;241m<\u001b[39m max_attempts:\n",
      "File \u001b[0;32m~/Library/Python/3.9/lib/python/site-packages/telethon/client/auth.py:519\u001b[0m, in \u001b[0;36mAuthMethods.send_code_request\u001b[0;34m(self, phone, force_sms, _retry_count)\u001b[0m\n\u001b[1;32m    517\u001b[0m \u001b[38;5;28;01mif\u001b[39;00m \u001b[38;5;129;01mnot\u001b[39;00m phone_hash:\n\u001b[1;32m    518\u001b[0m     \u001b[38;5;28;01mtry\u001b[39;00m:\n\u001b[0;32m--> 519\u001b[0m         result \u001b[38;5;241m=\u001b[39m \u001b[38;5;28;01mawait\u001b[39;00m \u001b[38;5;28mself\u001b[39m(functions\u001b[38;5;241m.\u001b[39mauth\u001b[38;5;241m.\u001b[39mSendCodeRequest(\n\u001b[1;32m    520\u001b[0m             phone, \u001b[38;5;28mself\u001b[39m\u001b[38;5;241m.\u001b[39mapi_id, \u001b[38;5;28mself\u001b[39m\u001b[38;5;241m.\u001b[39mapi_hash, types\u001b[38;5;241m.\u001b[39mCodeSettings()))\n\u001b[1;32m    521\u001b[0m     \u001b[38;5;28;01mexcept\u001b[39;00m errors\u001b[38;5;241m.\u001b[39mAuthRestartError:\n\u001b[1;32m    522\u001b[0m         \u001b[38;5;28;01mif\u001b[39;00m _retry_count \u001b[38;5;241m>\u001b[39m \u001b[38;5;241m2\u001b[39m:\n",
      "File \u001b[0;32m~/Library/Python/3.9/lib/python/site-packages/telethon/client/users.py:30\u001b[0m, in \u001b[0;36mUserMethods.__call__\u001b[0;34m(self, request, ordered, flood_sleep_threshold)\u001b[0m\n\u001b[1;32m     29\u001b[0m \u001b[38;5;28;01masync\u001b[39;00m \u001b[38;5;28;01mdef\u001b[39;00m \u001b[38;5;21m__call__\u001b[39m(\u001b[38;5;28mself\u001b[39m: \u001b[38;5;124m'\u001b[39m\u001b[38;5;124mTelegramClient\u001b[39m\u001b[38;5;124m'\u001b[39m, request, ordered\u001b[38;5;241m=\u001b[39m\u001b[38;5;28;01mFalse\u001b[39;00m, flood_sleep_threshold\u001b[38;5;241m=\u001b[39m\u001b[38;5;28;01mNone\u001b[39;00m):\n\u001b[0;32m---> 30\u001b[0m     \u001b[38;5;28;01mreturn\u001b[39;00m \u001b[38;5;28;01mawait\u001b[39;00m \u001b[38;5;28mself\u001b[39m\u001b[38;5;241m.\u001b[39m_call(\u001b[38;5;28mself\u001b[39m\u001b[38;5;241m.\u001b[39m_sender, request, ordered\u001b[38;5;241m=\u001b[39mordered)\n",
      "File \u001b[0;32m~/Library/Python/3.9/lib/python/site-packages/telethon/client/users.py:84\u001b[0m, in \u001b[0;36mUserMethods._call\u001b[0;34m(self, sender, request, ordered, flood_sleep_threshold)\u001b[0m\n\u001b[1;32m     82\u001b[0m         \u001b[38;5;28;01mreturn\u001b[39;00m results\n\u001b[1;32m     83\u001b[0m \u001b[38;5;28;01melse\u001b[39;00m:\n\u001b[0;32m---> 84\u001b[0m     result \u001b[38;5;241m=\u001b[39m \u001b[38;5;28;01mawait\u001b[39;00m future\n\u001b[1;32m     85\u001b[0m     \u001b[38;5;28mself\u001b[39m\u001b[38;5;241m.\u001b[39msession\u001b[38;5;241m.\u001b[39mprocess_entities(result)\n\u001b[1;32m     86\u001b[0m     \u001b[38;5;28mself\u001b[39m\u001b[38;5;241m.\u001b[39m_entity_cache\u001b[38;5;241m.\u001b[39madd(result)\n",
      "\u001b[0;31mCancelledError\u001b[0m: "
     ]
    }
   ],
   "source": [
    "# Telethon Hello World/Semantics\n",
    "client = TelegramClient(None, api_id, api_hash)\n",
    "# client.connect()\n",
    "await client.start()\n",
    "await client.send_message('me', 'Hello, world!')\n",
    "await client.disconnect()\n",
    "\n",
    "# To delete session\n",
    "await client.log_out()"
   ]
  },
  {
   "cell_type": "code",
   "execution_count": 52,
   "id": "cd74a7a0-79de-4a67-832d-8f4ac7e72564",
   "metadata": {
    "tags": []
   },
   "outputs": [
    {
     "name": "stdin",
     "output_type": "stream",
     "text": [
      "Please enter your phone (or bot token):  +38631882318\n",
      "Please enter the code you received:  32150\n"
     ]
    },
    {
     "name": "stdout",
     "output_type": "stream",
     "text": [
      "Signed in successfully as Mtn Dew Camatcho\n",
      "-1001558795535 : Ignore this\n",
      "-1001558795535 : None\n"
     ]
    },
    {
     "data": {
      "text/plain": [
       "True"
      ]
     },
     "execution_count": 52,
     "metadata": {},
     "output_type": "execute_result"
    }
   ],
   "source": [
    "# Scrape Messages from Single Chat / Channel\n",
    "\n",
    "# Chat ID\n",
    "\n",
    "# This value corresponds to a test chat I made with a friend, should contain a message \"Ignore this\" as the first message in the chat\n",
    "chat = -990435703\n",
    "\n",
    "# This corresponds to a test channel I created, should contain a message \"Ignore this\" as the first message in the channel\n",
    "chat = \"t.me/TestChannelMtnDew\"\n",
    "\n",
    "client = TelegramClient(None, api_id, api_hash)\n",
    "await client.start()\n",
    "# ---- START ----\n",
    "\n",
    "async def get_msgs():\n",
    "    async for message in client.iter_messages(chat):\n",
    "        print(message.sender_id, ':', message.text)\n",
    "        \n",
    "await get_msgs()\n",
    "\n",
    "# ---- END ----\n",
    "await client.log_out()"
   ]
  },
  {
   "cell_type": "markdown",
   "id": "23f2c8f8-c6f6-4222-bbd7-3c69494234e8",
   "metadata": {},
   "source": [
    "The eventual functionality needed is to be able to scrape all messages from chats and channels between two dates and \n",
    "store the message text and user ID (later we will also scrape URL's from the messages).\n",
    "\n",
    "Some usefull parameters for `iter_messages`:\n",
    "- limit (int | None, optional): Max no messages to retreive\n",
    "- offset_date (datetime): Older messages than this will be retreived\n",
    "\n",
    "Note that only one bound can be specified via the function parameters. A workaround is to fetch the oldest message wanted then fetch all\n",
    "messages between it and the first message in range.\n"
   ]
  },
  {
   "cell_type": "code",
   "execution_count": 88,
   "id": "f8c46d14-cce3-4a4d-bb8d-6119c28f39ad",
   "metadata": {},
   "outputs": [
    {
     "data": {
      "text/plain": [
       "\"\\nfrom_date = datetime.strptime('27.03.2023 13:30:00', '%d.%m.%Y %H:%M:%S').replace(tzinfo=timezone.utc)\\nto_date = datetime.strptime('27.03.2023 14:15:00', '%d.%m.%Y %H:%M:%S').replace(tzinfo=timezone.utc)\\n\""
      ]
     },
     "execution_count": 88,
     "metadata": {},
     "output_type": "execute_result"
    }
   ],
   "source": [
    "# Snippet to put date and time in required format\n",
    "'''\n",
    "from_date = datetime.strptime('27.03.2023 13:30:00', '%d.%m.%Y %H:%M:%S').replace(tzinfo=timezone.utc)\n",
    "to_date = datetime.strptime('27.03.2023 14:15:00', '%d.%m.%Y %H:%M:%S').replace(tzinfo=timezone.utc)\n",
    "'''"
   ]
  },
  {
   "cell_type": "code",
   "execution_count": 179,
   "id": "9329fa87-976d-4612-a391-50d70754ad18",
   "metadata": {},
   "outputs": [],
   "source": [
    "# Helper function for getting the first and last message in a date ranges\n",
    "\n",
    "async def sfetch_in_range(client, channel, from_date, to_date):\n",
    "    # Get ID of oldest message in range via offset parameters\n",
    "    \n",
    "    pre_first_msg = await client.get_messages(channel, offset_date=from_date, limit=1)\n",
    "    pre_first_msg = pre_first_msg[0]\n",
    "    #first_msg = pre_first_msg\n",
    "     \n",
    "    # Cleaner, but breaks when there are is only a single message available\n",
    "    # TODO: Fix this edge case\n",
    "\n",
    "    first_msg = await client.get_messages(channel, min_id=pre_first_msg.id, limit=1, reverse=True)\n",
    "    first_msg = first_msg[0]\n",
    "    \n",
    "    # Get ID of youngest message in range via offset parameters\n",
    "    last_msg = await client.get_messages(channel, offset_date=to_date, limit=1)\n",
    "    last_msg = last_msg[0]\n",
    "    \n",
    "    '''\n",
    "    messages_between = await client.get_messages(channel, min_id=first_msg.id, max_id=last_msg.id)\n",
    "    messages_between = messages_between + [first_msg, last_msg]\n",
    "    '''\n",
    "    \n",
    "    return [first_msg, last_msg]"
   ]
  },
  {
   "cell_type": "markdown",
   "id": "7f94932d-2664-4ec3-94fe-b9e1bfe4b31c",
   "metadata": {},
   "source": [
    "**Note:** When accessing a private channel you need to prefix the ID copied from the browser address with a 100\n",
    "I.e. chat = -1280863188 becomes chat = -1001280863188"
   ]
  },
  {
   "cell_type": "code",
   "execution_count": 182,
   "id": "2fad3e81-aa56-4ac7-9b73-7ac6ac15a132",
   "metadata": {},
   "outputs": [
    {
     "name": "stdout",
     "output_type": "stream",
     "text": [
      "2\n"
     ]
    },
    {
     "data": {
      "text/plain": [
       "True"
      ]
     },
     "execution_count": 182,
     "metadata": {},
     "output_type": "execute_result"
    }
   ],
   "source": [
    "# Test helper function\n",
    "# Expect to retrieve message \"This message was sent at 14:00 pm\", \"And this one before 14:15\" but not \"Ignore this\"\n",
    "\n",
    "# This value corresponds to a test chat I made with a friend\n",
    "#chat = -990435703\n",
    "\n",
    "# Unkomercialer Marketplatz\n",
    "chat = -1001280863188\n",
    "\n",
    "from_date = datetime.datetime.strptime('27.03.2023 12:30:00', '%d.%m.%Y %H:%M:%S').replace(tzinfo=pytz.timezone('Europe/Zurich'))\n",
    "to_date = datetime.datetime.strptime('27.03.2023 08:30:00', '%d.%m.%Y %H:%M:%S').replace(tzinfo=pytz.timezone('Europe/Zurich'))\n",
    "\n",
    "\n",
    "client = TelegramClient(None, api_id, api_hash)\n",
    "await client.start()\n",
    "\n",
    "\n",
    "# ---- START ----\n",
    "\n",
    "messages = await sfetch_in_range(client, chat, from_date, to_date)\n",
    "#for message in messages:\n",
    "#    print(message.text)\n",
    "print(len(messages))\n",
    "\n",
    "\n",
    "# ---- END ----\n",
    "await client.log_out()\n"
   ]
  },
  {
   "cell_type": "code",
   "execution_count": 181,
   "id": "9f9cfc56-d405-41d5-bcc3-705cbf257286",
   "metadata": {},
   "outputs": [
    {
     "data": {
      "text/plain": [
       "<DstTzInfo 'Europe/Zurich' LMT+0:34:00 STD>"
      ]
     },
     "execution_count": 181,
     "metadata": {},
     "output_type": "execute_result"
    }
   ],
   "source": []
  },
  {
   "cell_type": "code",
   "execution_count": null,
   "id": "3f58d31a-aeac-40c1-8847-bf4a75efdaf8",
   "metadata": {},
   "outputs": [],
   "source": []
  }
 ],
 "metadata": {
  "kernelspec": {
   "display_name": "Python 3 (ipykernel)",
   "language": "python",
   "name": "python3"
  },
  "language_info": {
   "codemirror_mode": {
    "name": "ipython",
    "version": 3
   },
   "file_extension": ".py",
   "mimetype": "text/x-python",
   "name": "python",
   "nbconvert_exporter": "python",
   "pygments_lexer": "ipython3",
   "version": "3.9.6"
  }
 },
 "nbformat": 4,
 "nbformat_minor": 5
}
