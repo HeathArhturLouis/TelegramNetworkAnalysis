{
 "cells": [
  {
   "cell_type": "markdown",
   "id": "b6768d14-3d6d-4c1a-8a49-3dccf8802269",
   "metadata": {},
   "source": [
    "# Channel / Chat Search"
   ]
  },
  {
   "cell_type": "markdown",
   "id": "3dc5bb51-055e-4b18-bb42-de30f0499152",
   "metadata": {},
   "source": [
    "- Search the pushshift dataset for channels and chats where british far right policits were discussed.\n",
    "- Depending on size of results, perform snowball sampling\n",
    "- Doccument list of chat / channel ID's"
   ]
  },
  {
   "cell_type": "code",
   "execution_count": 3,
   "id": "e02072fa-709b-41df-8438-81c090adba9e",
   "metadata": {},
   "outputs": [],
   "source": [
    "import json\n",
    "import pandas as pd"
   ]
  },
  {
   "cell_type": "code",
   "execution_count": 10,
   "id": "1cd132a0-94f7-423a-b028-9c02774fd8a8",
   "metadata": {},
   "outputs": [
    {
     "name": "stdout",
     "output_type": "stream",
     "text": [
      "channel_search.ipynb channels.ndjson      messages.ndjson.zst\n"
     ]
    }
   ],
   "source": [
    "# Make sure we're in the right directory\n",
    "!ls"
   ]
  },
  {
   "cell_type": "markdown",
   "id": "045f5e38-a01b-483a-8f75-2e27ee4e4fb5",
   "metadata": {},
   "source": [
    "### Examine Format of Pushshift Dataset Channels List"
   ]
  },
  {
   "cell_type": "code",
   "execution_count": 14,
   "id": "08274e69-550b-4f1a-947a-0ea37414a65e",
   "metadata": {},
   "outputs": [
    {
     "name": "stdout",
     "output_type": "stream",
     "text": [
      "          _                                              chats  \\\n",
      "0  ChatFull  [{'_': 'Channel', 'access_hash': 3403206964481...   \n",
      "1  ChatFull  [{'_': 'Channel', 'access_hash': 2895361947580...   \n",
      "2  ChatFull  [{'_': 'Channel', 'access_hash': 1650144199878...   \n",
      "3  ChatFull  [{'_': 'Channel', 'access_hash': -288458165294...   \n",
      "4  ChatFull  [{'_': 'Channel', 'access_hash': 8986771726091...   \n",
      "\n",
      "                                           full_chat  retrieved_utc users  \n",
      "0  {'_': 'ChannelFull', 'about': '', 'admins_coun...     1567723133    []  \n",
      "1  {'_': 'ChannelFull', 'about': 'OFFICIAL PROUD ...     1567979256    []  \n",
      "2  {'_': 'ChannelFull', 'about': 'HELLO SPLC, IM ...     1567979256    []  \n",
      "3  {'_': 'ChannelFull', 'about': '\"Dangerous pers...     1567979257    []  \n",
      "4  {'_': 'ChannelFull', 'about': '', 'admins_coun...     1567979257    []  \n"
     ]
    }
   ],
   "source": [
    "# Load channel names\n",
    "\n",
    "channels_df = pd.read_json('channels.ndjson', lines=True)\n",
    "print(channels_df.head())\n",
    "\n",
    "#To save you can use: df.to_json('/path/to/export.ndjson', lines=True)"
   ]
  },
  {
   "cell_type": "code",
   "execution_count": 56,
   "id": "d8a540b7-36de-4049-a1b7-0f9ab36af615",
   "metadata": {},
   "outputs": [
    {
     "data": {
      "text/plain": [
       "[{'_': 'Channel',\n",
       "  'access_hash': 2924237098681724165,\n",
       "  'admin_rights': None,\n",
       "  'banned_rights': None,\n",
       "  'broadcast': True,\n",
       "  'creator': False,\n",
       "  'date': '2017-06-25T22:51:04+00:00',\n",
       "  'default_banned_rights': None,\n",
       "  'has_geo': False,\n",
       "  'has_link': False,\n",
       "  'id': 1134765260,\n",
       "  'left': True,\n",
       "  'megagroup': False,\n",
       "  'min': False,\n",
       "  'participants_count': None,\n",
       "  'photo': {'_': 'ChatPhoto',\n",
       "   'dc_id': 1,\n",
       "   'photo_big': {'_': 'FileLocationToBeDeprecated',\n",
       "    'local_id': 99450,\n",
       "    'volume_id': 803110178},\n",
       "   'photo_small': {'_': 'FileLocationToBeDeprecated',\n",
       "    'local_id': 99448,\n",
       "    'volume_id': 803110178}},\n",
       "  'restricted': False,\n",
       "  'restriction_reason': [],\n",
       "  'scam': False,\n",
       "  'signatures': False,\n",
       "  'slowmode_enabled': False,\n",
       "  'title': \"Vincenzo's Library\",\n",
       "  'username': 'VincenzosLibrary',\n",
       "  'verified': False,\n",
       "  'version': 0}]"
      ]
     },
     "execution_count": 56,
     "metadata": {},
     "output_type": "execute_result"
    }
   ],
   "source": [
    "# Examine data format\n",
    "(channels_df.loc[10000])['chats']\n"
   ]
  },
  {
   "cell_type": "markdown",
   "id": "96bb2ef6-93d9-4e84-afef-bd099cbec9b1",
   "metadata": {},
   "source": [
    "When searching for brexit related topics we could look at:\n",
    "    - 'title' attribute of 'chats' column\n",
    "    - 'about' attribute of 'channel_full' column"
   ]
  },
  {
   "cell_type": "code",
   "execution_count": 108,
   "id": "db9776b4-117a-4fd1-a17f-b61fef1d8e4d",
   "metadata": {},
   "outputs": [
    {
     "name": "stdout",
     "output_type": "stream",
     "text": [
      "Vincenzo's Library\n",
      "http://vincenzoslibrary.cf/\n",
      "\n",
      "Stay up to date with new additions, server updates, and general information regarding this free and public collection.\n",
      "\n",
      "@VincenzosLibrary\n"
     ]
    }
   ],
   "source": [
    "record = channels_df.loc[10000]\n",
    "print(record['chats'][0]['title'])\n",
    "print(record['full_chat']['about'])"
   ]
  },
  {
   "cell_type": "code",
   "execution_count": 57,
   "id": "1c9bd8cc-fdb6-4c87-8661-c99146d256f9",
   "metadata": {},
   "outputs": [],
   "source": [
    "no_chats = 0\n",
    "no_channels = 0\n",
    "\n",
    "for index, row in channels_df.iterrows():\n",
    "    if row['chats'][0]['megagroup'] == False:\n",
    "        no_channels += 1\n",
    "    else:\n",
    "        no_chats += 1"
   ]
  },
  {
   "cell_type": "code",
   "execution_count": 58,
   "id": "4e374704-2f56-4ab4-a243-7d1ebc7d9ca8",
   "metadata": {},
   "outputs": [
    {
     "name": "stdout",
     "output_type": "stream",
     "text": [
      "Total: 27946\n",
      "Chats: 4\n",
      "Channels: 27942\n"
     ]
    }
   ],
   "source": [
    "# Number of Channels / Chats Both\n",
    "print(f'Total: {str(channels_df.shape[0])}')\n",
    "print(f'Chats: {str(no_chats)}')\n",
    "print(f'Channels: {str(no_channels)}')"
   ]
  },
  {
   "cell_type": "code",
   "execution_count": 130,
   "id": "fc6f261c-b431-4302-89d4-ffbd4d9acbbb",
   "metadata": {},
   "outputs": [
    {
     "name": "stdout",
     "output_type": "stream",
     "text": [
      "0\n"
     ]
    }
   ],
   "source": [
    "hits = 0\n",
    "\n",
    "query = 'britbong'\n",
    "\n",
    "for index, row in channels_df.iterrows():\n",
    "    if (query in row['chats'][0]['title']) \\\n",
    "        or (query in record['full_chat']['about']):\n",
    "            print(row['full_chat']['about'])\n",
    "            hits += 1\n",
    "\n",
    "print(hits)"
   ]
  }
 ],
 "metadata": {
  "kernelspec": {
   "display_name": "Python 3 (ipykernel)",
   "language": "python",
   "name": "python3"
  },
  "language_info": {
   "codemirror_mode": {
    "name": "ipython",
    "version": 3
   },
   "file_extension": ".py",
   "mimetype": "text/x-python",
   "name": "python",
   "nbconvert_exporter": "python",
   "pygments_lexer": "ipython3",
   "version": "3.9.6"
  }
 },
 "nbformat": 4,
 "nbformat_minor": 5
}
