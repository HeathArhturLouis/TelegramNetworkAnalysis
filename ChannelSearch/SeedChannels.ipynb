{
 "cells": [
  {
   "cell_type": "markdown",
   "id": "795e96dc-d108-4446-b7f1-cefbfbe8353e",
   "metadata": {},
   "source": [
    "# Seed Channels Identfied in Organization and evolution of the UK far-right network on Telegram"
   ]
  },
  {
   "cell_type": "markdown",
   "id": "b89f67a0-917e-429e-933d-f57f8ba69c70",
   "metadata": {},
   "source": [
    "- Process list of telegram channels identified and named in the main clusters from the paper\n",
    "- Seperate chats and channels\n",
    "- Search for and save a list of still-active/acessable chats\n",
    "- Check data is available in a date range"
   ]
  },
  {
   "cell_type": "code",
   "execution_count": 16,
   "id": "0d2ea728-adf5-4f9e-8df7-ed06177883e2",
   "metadata": {},
   "outputs": [
    {
     "name": "stdout",
     "output_type": "stream",
     "text": [
      "Collecting telethon\n",
      "  Using cached Telethon-1.27.0-py3-none-any.whl (598 kB)\n",
      "Collecting pyaes\n",
      "  Using cached pyaes-1.6.1.tar.gz (28 kB)\n",
      "Collecting rsa\n",
      "  Using cached rsa-4.9-py3-none-any.whl (34 kB)\n",
      "Collecting pyasn1>=0.1.3\n",
      "  Using cached pyasn1-0.4.8-py2.py3-none-any.whl (77 kB)\n",
      "Using legacy 'setup.py install' for pyaes, since package 'wheel' is not installed.\n",
      "Installing collected packages: pyasn1, rsa, pyaes, telethon\n",
      "    Running setup.py install for pyaes ... \u001b[?25ldone\n",
      "\u001b[?25hSuccessfully installed pyaes-1.6.1 pyasn1-0.4.8 rsa-4.9 telethon-1.27.0\n",
      "\u001b[33mWARNING: You are using pip version 21.2.4; however, version 23.0.1 is available.\n",
      "You should consider upgrading via the '/Users/louis.heath/Documents/School/TelegramNetworkAnalysis/sn_venv/bin/python -m pip install --upgrade pip' command.\u001b[0m\n",
      "Note: you may need to restart the kernel to use updated packages.\n"
     ]
    }
   ],
   "source": [
    "%pip install telethon"
   ]
  },
  {
   "cell_type": "code",
   "execution_count": 82,
   "id": "ba8510eb-77a4-4115-9a98-6ce8427e7c1f",
   "metadata": {},
   "outputs": [],
   "source": [
    "from telethon.sync import TelegramClient\n",
    "import telethon.sync\n",
    "import pandas as pd\n",
    "import numpy as np\n",
    "import asyncio\n",
    "from datetime import date, datetime\n",
    "\n",
    "\n",
    "from tqdm import tqdm"
   ]
  },
  {
   "cell_type": "code",
   "execution_count": 25,
   "id": "ddaa2eba-80cb-428e-82c7-fe49374af5e3",
   "metadata": {},
   "outputs": [],
   "source": [
    "# Credentials\n",
    "api_id = 23867482\n",
    "api_hash = '7c99e3fd9ecfd7b8a4a0374436a046a9'\n",
    "phone = '+38631882318'\n",
    "username = \"\""
   ]
  },
  {
   "cell_type": "code",
   "execution_count": 84,
   "id": "4aecf631-f21c-455d-bab4-dc19682c34ea",
   "metadata": {},
   "outputs": [],
   "source": [
    "start_date = datetime.strptime('18.10.2016 00:00:00', '%d.%m.%Y %H:%M:%S')\n",
    "end_date = datetime.strptime('07.02.2023 00:00:00', '%d.%m.%Y %H:%M:%S')"
   ]
  },
  {
   "cell_type": "code",
   "execution_count": 23,
   "id": "f6a8a50e-b6b5-4097-997c-073ae6ff54bd",
   "metadata": {},
   "outputs": [],
   "source": [
    "channels_raw = \"\"\"realdonaldtrump,\n",
    "WhiteHouse,\n",
    "breaking911,\n",
    "jahan_24,\n",
    "POTUS,\n",
    "ancapistantm,\n",
    "ReutersWorldChannel,\n",
    "YLYL4chan,\n",
    "dailyredpill,\n",
    "XDProductions,\n",
    "DieForIsraelGoy,\n",
    "AnarchoMemes,\n",
    "AltMemes,\n",
    "khamenei_ir,\n",
    "anarchiaautonomia,\n",
    "animach,\n",
    "PoliticalMemes,\n",
    "DanScavino,\n",
    "foxnews,\n",
    "roopab,\n",
    "Redes7,\n",
    "OlavoTemRazaoCanal,\n",
    "Noticias2018,\n",
    "###,\n",
    "HA_alshami02,\n",
    "criticanacional,\n",
    "PatriotasConservadores,\n",
    "almubeen102,\n",
    "red_color,\n",
    "BrasilSurreal,\n",
    "randomanonch,\n",
    "Thecelticempire,\n",
    "WhiteIsRight,\n",
    "sgmeme,\n",
    "BloodAndHonour,\n",
    "NazBol,\n",
    "CIGtelegram,\n",
    "beadymanor,\n",
    "MiloOfcial,\n",
    "shitpost,\n",
    "toalibertarian,\n",
    "TommyRobinsonNews,\n",
    "pjwnews,\n",
    "pol_4chan,\n",
    "HansTerrorwave,\n",
    "ofcialmilo,\n",
    "loomeredofcial,\n",
    "AntifaPublicWatch,\n",
    "JackDawkins,\n",
    "just_hmmm,\n",
    "r_unexpected,\n",
    "programmer_humor,\n",
    "get_happiness,\n",
    "awwnime,\n",
    "r_behindthegifs,\n",
    "PoliticalHumor,\n",
    "r_Showerthoughts,\n",
    "r_dankmemes,\n",
    "r_HighQualityGifs,\n",
    "just_hmmm,\n",
    "r_unexpected,\n",
    "programmer_humor,\n",
    "get_happiness,\n",
    "awwnime,\n",
    "r_behindthegifs,\n",
    "PoliticalHumor,\n",
    "r_Showerthoughts,\n",
    "r_dankmemes,\n",
    "r_HighQualityGifs,\n",
    "letzcrowd,\n",
    "DieWahrheitnurdieWahrheit,\n",
    "thecarnalconservative,\n",
    "News_cabinet_news,\n",
    "bannedforlife,\n",
    "IB_MeckPomm,\n",
    "judenpresse_archive,\n",
    "contraototalitarismodaonuenom,\n",
    "realdonaldtrump,\n",
    "breaking911,\n",
    "WhiteHouse,\n",
    "InfowarsNews,\n",
    "durov,\n",
    "Notactuallyfunny,\n",
    "TrumpWarRoom,\n",
    "PS752,\n",
    "ReutersWorldChannel,\n",
    "Breitbart,\n",
    "realtimenewsbroadcasts,\n",
    "JoeBiden,\n",
    "hongkongfp,\n",
    "DonaldJTrumpJr,\n",
    "telegram,\n",
    "southfronteng,\n",
    "foxnews, \n",
    "AnarchoMemes, \n",
    "anarchiaautonomia,\n",
    "r_privacy,\n",
    "reddit_android,\n",
    "programmer_humor,\n",
    "manutd,\n",
    "just_hmmm,\n",
    "r_gifs,\n",
    "soccer_reddit,\n",
    "r_libertarian,\n",
    "r_WikiLeaks,\n",
    "rfurryirl,\n",
    "AntifaPublicWatch,\n",
    "JackDawkins,\n",
    "BritainFirst,\n",
    "TommyRobinsonNews,\n",
    "vinniesullivan,\n",
    "police_frequency,\n",
    "MiloOfcial,\n",
    "Brexiteers,\n",
    "therealityreport,\n",
    "luketrrcage,\n",
    "PatriotNewz,\n",
    "leegarrettupdates,\n",
    "dannytommo,\n",
    "trump,\n",
    "JaydaFransen,\n",
    "loomeredofcial,\n",
    "newspanopticon,\n",
    "MARIOBORG20,\n",
    "Jaydafransensupporters,\n",
    "RedDog71Media,\n",
    "italia24hnews,\n",
    "WTF_Radio,\n",
    "coindesk_news,\n",
    "Partisan2015,\n",
    "HowToFind,\n",
    "Arteshban,\n",
    "LiverpoolFCNews,\n",
    "IrVatan,\n",
    "LoyalistsHQ,\n",
    "HA_alshami02,\n",
    "Excarkun,\n",
    "GalliaArchive,\n",
    "agrgtr,\n",
    "armnewz,\n",
    "SkuratofOne,\n",
    "skrepka2020,\n",
    "ci_newsblock,\n",
    "vampov,\n",
    "snimulapshu,\n",
    "bosphorus1861,\n",
    "bgmos,\n",
    "W_IN_FIRE,\n",
    "newspanopticon,\n",
    "SidneyPowell1,\n",
    "The_Duran,\n",
    "eQsynews,\n",
    "realdonaldtrump,\n",
    "leegarrettupdates,\n",
    "Breitbart,\n",
    "The_Library_II,\n",
    "ProudBoysOfcial,\n",
    "felixrex,\n",
    "yellowvest,\n",
    "TrTalkChris,\n",
    "JoleneBuntingUK,\n",
    "nationisviribus,\n",
    "forbiddenbookclub,\n",
    "Altnewsnetwork,\n",
    "project_veritas,\n",
    "zerohedge,\n",
    "WhiteHouse,\n",
    "r_interestingasfuck,\n",
    "just_hmmm,\n",
    "rfurryirl,\n",
    "r_imaginary_network,\n",
    "r_movies,\n",
    "MemeArea,\n",
    "r_rupaulsdragrace,\n",
    "r_evilbuildings,\n",
    "r_porn,\n",
    "R_Blursedimages,\n",
    "therealityreport,\n",
    "vinniesullivan,\n",
    "exposingculturalmarxism,\n",
    "usvoterfraud,\n",
    "TRRMEDIA,\n",
    "RealVincentJames,\n",
    "UKSTREETCRIME,\n",
    "Liberal_Maniacal_Psychosis_Arc,\n",
    "luketrrcage,\n",
    "AlSangmoore,\n",
    "westcoastintel,\n",
    "WesternHeritage,\n",
    "BellumActaNews,\n",
    "OKGroomerMunitionsFactory,\n",
    "AntifaPublicWatch,\n",
    "jamesgoddard89,\n",
    "bbbreaking,\n",
    "rt_russian,\n",
    "rian_ru,\n",
    "russica2,\n",
    "kremlebezBashennik,\n",
    "dimsmirnov175,\n",
    "kaktovottak,\n",
    "sputniklive,\n",
    "sashakots,\n",
    "master_pera,\n",
    "r_WikiLeaks,\n",
    "COMPLETE_ANARCHY,\n",
    "r_mapporn,\n",
    "reddit2telegram,\n",
    "admeme,\n",
    "r_Damnthatsinteresting,\n",
    "r_privacy,\n",
    "programmer_humor,\n",
    "tyingherhairup,\n",
    "###,\n",
    "GFR_Henderson,\n",
    "YouHaveToKnow,\n",
    "frstnose,\n",
    "HaghNewss,\n",
    "Tellmama,\n",
    "forgeeks,\n",
    "alsyasehnews,\n",
    "Aramcaramba\"\"\""
   ]
  },
  {
   "cell_type": "code",
   "execution_count": 3,
   "id": "943d9105-280b-4780-ac2c-17dab425775d",
   "metadata": {},
   "outputs": [],
   "source": [
    "chats_raw = \"\"\"V_of_Europe*,\n",
    "LeHumbleKekVerse*,\n",
    "brexiteerschatlounge*,\n",
    "q_anons*,\n",
    "CrypticCoinVIP*,\n",
    "ftinorfuckof*,\n",
    "trrchat*,\n",
    "Onehundredfags*,\n",
    "KingdomZombe*,\n",
    "tehmoonwalkers*,\n",
    "SundayLongLive*,\n",
    "childrenmatter*,\n",
    "SvenLiebichChat*,\n",
    "KingdomZombe*,\n",
    "TheVaultVids*,\n",
    "nomoremosqueschat*,\n",
    "PatrioticGroupChat*,\n",
    "AfrikanerBoer,\n",
    "nomorelockdown*,\n",
    "BritPatriots*,\n",
    "ChronoClockCorp*,\n",
    "realDonaldjTrump,\n",
    "loomeredchat*,\n",
    "BritPol1*,\n",
    "infowarsofcalchat*,\n",
    "SundayLongLive*\n",
    "UKIPSUPPORTERS*,\n",
    "TheVaultTommyRobinsonWeAreTommy*,\n",
    "students4trump*,\n",
    "ultracatolico*,\n",
    "GroomingGangsPredatorAwareness*,\n",
    "patriotictalk*,\n",
    "therightwinggroup*,\n",
    "trrchat*,\n",
    "vinniesullivanchat*,\n",
    "politicsdebate*,\n",
    "r_channels*,\n",
    "steetcrimechat*,\n",
    "donaldtrumpchat*,\n",
    "aviyeminichats*,\n",
    "FuckYourFeels*,\n",
    "ftinorfuckof*,\n",
    "magafrstnews*,\n",
    "ResistMarxismPublic*,\n",
    "RDBAthiests*,\n",
    "TrumpTime,\n",
    "socialismbar*,\n",
    "x22chat*,\n",
    "TheVaultVids*,\n",
    "LeHumbleKekVerse*,\n",
    "PatrioticGroupChat*,\n",
    "catholicwignat*,\n",
    "AnarchoCapitalism*,\n",
    "NEWSWORTHY1*,\n",
    "students4trump*,\n",
    "Right_Europe*,\n",
    "NavalAcademy*\"\"\""
   ]
  },
  {
   "cell_type": "code",
   "execution_count": 14,
   "id": "211bf115-c33a-4775-8622-3368be8f1a9e",
   "metadata": {},
   "outputs": [
    {
     "name": "stdout",
     "output_type": "stream",
     "text": [
      "Number of channels: 219\n",
      "Number of chats: 53\n"
     ]
    }
   ],
   "source": [
    "# Construct arrays and clean names\n",
    "channels = channels_raw.split(\",\\n\")\n",
    "print(f'Number of channels: {len(channels)}')\n",
    "chats = chats_raw.split(\"*,\\n\")\n",
    "print(f'Number of chats: {len(chats)}')"
   ]
  },
  {
   "cell_type": "code",
   "execution_count": 102,
   "id": "d1abb0fc-2e86-4509-9304-a371304d8998",
   "metadata": {},
   "outputs": [
    {
     "name": "stdin",
     "output_type": "stream",
     "text": [
      "Please enter your phone (or bot token):  +38631882318\n",
      "Please enter the code you received:  40599\n"
     ]
    },
    {
     "name": "stdout",
     "output_type": "stream",
     "text": [
      "Signed in successfully as Mtn Dew Camatcho\n"
     ]
    },
    {
     "data": {
      "text/plain": [
       "<telethon.client.telegramclient.TelegramClient at 0x1250f6e80>"
      ]
     },
     "execution_count": 102,
     "metadata": {},
     "output_type": "execute_result"
    }
   ],
   "source": [
    "# ---- CONNECT AND AUTHENTICATE ----\n",
    "client = TelegramClient(None, api_id, api_hash)\n",
    "await client.start()"
   ]
  },
  {
   "cell_type": "code",
   "execution_count": 103,
   "id": "dec6bc1c-e0e8-43ee-9175-ed7dedf8573c",
   "metadata": {},
   "outputs": [],
   "source": [
    "async def print_msgs(id_string):\n",
    "    async for message in client.iter_messages(id_string, limit = 10):\n",
    "        print(message.sender_id, ':', message.text)\n",
    "        \n",
    "async def get_msgs(id_string):\n",
    "    msgs = []\n",
    "    async for message in client.iter_messages(id_string, limit = 10):\n",
    "        msgs.append( f'{message.sender_id} : {message.text}')"
   ]
  },
  {
   "cell_type": "code",
   "execution_count": 106,
   "id": "0679021f-b494-49b6-a566-58b059dcef25",
   "metadata": {},
   "outputs": [
    {
     "name": "stdout",
     "output_type": "stream",
     "text": [
      "2138123122 : Hi\n",
      "2138123122 : None\n",
      "5878647795 : None\n",
      "1236466050 : None\n",
      "1236466050 : None\n",
      "5625406971 : None\n",
      "5506936593 : \n",
      "2091696463 : None\n",
      "1981819218 : None\n",
      "532048839 : https://thewashingtoncountyauditor.com/video-armed-black-supremacists-in-tulsa-there-will-come-a-time-when-we-will-kill-everything-white-in-sight/?amp=1\n",
      "\n",
      "**(VIDEO) Armed Black Supremacists in Tulsa: ‘There Will Come a Time When We Will \n",
      "\n",
      "'Kill Everything White in Sight’\n",
      "\n",
      "Join our channel if you Hate the Anti-Christ\n",
      "****https://t.me/therealityreport**\n"
     ]
    }
   ],
   "source": [
    "# Connect to a chat based on it's name\n",
    "\n",
    "# A chat can be connected to normally via its name if it is still available\n",
    "chat = \"@steetcrimechat\"\n",
    "\n",
    "# If a chat no longer exists, API raises ValueError: No user has \"magafrstnews\" as username\n",
    "# chat = \"@magafrstnews\"\n",
    "\n",
    "await get_msgs(chat)\n",
    "await print_msgs(chat)"
   ]
  },
  {
   "cell_type": "code",
   "execution_count": 55,
   "id": "51ec7d7b-a24e-4058-a9c0-16486b8390fb",
   "metadata": {},
   "outputs": [],
   "source": [
    "# Check what chats are still up\n",
    "\n",
    "active_chats = []\n",
    "deactivated_chats = []\n",
    "\n",
    "for chat in chats:\n",
    "    chat_id = \"@\" + chat\n",
    "    try:\n",
    "        await get_msgs(chat_id)\n",
    "        active_chats.append(chat_id)\n",
    "    except:\n",
    "        deactivated_chats.append(chat_id)\n",
    "    # try to fetch messages from the chat\n",
    "    "
   ]
  },
  {
   "cell_type": "code",
   "execution_count": 107,
   "id": "dc93d91a-08bb-4b1d-abba-cda694cad2d2",
   "metadata": {},
   "outputs": [
    {
     "name": "stdout",
     "output_type": "stream",
     "text": [
      "Active chats: 32\n",
      "Deactivated chats: 21\n"
     ]
    }
   ],
   "source": [
    "print(f'Active chats: {len(active_chats)}')\n",
    "print(f'Deactivated chats: {len(deactivated_chats)}')"
   ]
  },
  {
   "cell_type": "code",
   "execution_count": 78,
   "id": "94ecd2b3-6b13-44fb-b839-faa0c0d03e24",
   "metadata": {},
   "outputs": [
    {
     "name": "stdout",
     "output_type": "stream",
     "text": [
      "['@V_of_Europe', '@q_anons', '@trrchat', '@Onehundredfags', '@tehmoonwalkers', '@SundayLongLive', '@childrenmatter', '@SvenLiebichChat', '@TheVaultVids', '@PatrioticGroupChat', '@BritPatriots', '@BritPol1', '@TheVaultTommyRobinsonWeAreTommy', '@students4trump', '@GroomingGangsPredatorAwareness', '@patriotictalk', '@therightwinggroup', '@trrchat', '@vinniesullivanchat', '@r_channels', '@steetcrimechat', '@donaldtrumpchat', '@aviyeminichats', '@FuckYourFeels', '@ResistMarxismPublic', '@RDBAthiests', '@x22chat', '@TheVaultVids', '@PatrioticGroupChat', '@AnarchoCapitalism', '@NEWSWORTHY1', '@students4trump']\n"
     ]
    }
   ],
   "source": [
    "print(active_chats)"
   ]
  },
  {
   "cell_type": "code",
   "execution_count": 79,
   "id": "693fae99-7a88-4567-8b2c-2759c56f2131",
   "metadata": {},
   "outputs": [
    {
     "name": "stdout",
     "output_type": "stream",
     "text": [
      "ActiveChats2023-04-03.csv  channel_search.ipynb\n",
      "SeedChannels.ipynb         channels.ndjson\n",
      "Untitled.ipynb             messages.ndjson.zst\n"
     ]
    }
   ],
   "source": [
    "%ls"
   ]
  },
  {
   "cell_type": "code",
   "execution_count": 108,
   "id": "80a86243-eaeb-4299-a22d-12875962be28",
   "metadata": {},
   "outputs": [],
   "source": [
    "# Save CSV file of active chats with timestamp in title\n",
    "active_np = np.asarray(active_chats)\n",
    "# np.savetxt(f'ActiveChats{str(date.today())}.csv', active_np, delimiter=',\\n', fmt='%s')"
   ]
  },
  {
   "cell_type": "markdown",
   "id": "340a2d34-7f7f-4c07-85da-fb108c1c1809",
   "metadata": {},
   "source": [
    "#### Check Data Exists In Required Range"
   ]
  },
  {
   "cell_type": "code",
   "execution_count": 109,
   "id": "359e28a4-a145-4167-b0ec-cec1d42175aa",
   "metadata": {},
   "outputs": [],
   "source": [
    "async def fetch_bounds(client, channel, from_date, to_date, verbose=False):\n",
    "    # Get ID of oldest message in range via offset parameters\n",
    "    \n",
    "    pre_first_msg = await client.get_messages(channel, offset_date=from_date, limit=1)\n",
    "    if verbose:\n",
    "        print(f'Pre First Message: {pre_first_msg}')\n",
    "        \n",
    "    if pre_first_msg = []:\n",
    "        if verbose:\n",
    "            print(f'{channel} channel history doesn\\'t go back far enough')\n",
    "            return []\n",
    "    else:\n",
    "        pre_first_msg = pre_first_msg[0]\n",
    "\n",
    "        first_msg = await client.get_messages(channel, min_id=pre_first_msg.id, limit=1, reverse=True)\n",
    "        if verbose:\n",
    "            print(f'First Message: {first_msg}')\n",
    "        first_msg = first_msg[0]\n",
    "    \n",
    "    # Get ID of youngest message in range via offset parameters\n",
    "    last_msg = await client.get_messages(channel, offset_date=to_date, limit=1)\n",
    "    if verbose:\n",
    "        print(f'Last Message: {pre_first_msg}')\n",
    "    last_msg = last_msg[0]\n",
    "    \n",
    "    '''\n",
    "    messages_between = await client.get_messages(channel, min_id=first_msg.id, max_id=last_msg.id)\n",
    "    messages_between = messages_between + [first_msg, last_msg]\n",
    "    '''\n",
    "    \n",
    "    return [first_msg, last_msg]"
   ]
  },
  {
   "cell_type": "code",
   "execution_count": 118,
   "id": "b07e57cc-f896-4098-9d95-0d7870709860",
   "metadata": {},
   "outputs": [],
   "source": [
    "available_in_range = []\n",
    "unavailable_in_range = []\n",
    "\n",
    "for a_chat in active_chats:\n",
    "    try:\n",
    "        await fetch_bounds(client, a_chat, start_date, end_date)\n",
    "        available_in_range.append(a_chat)\n",
    "    except:\n",
    "        unavailable_in_range.append(a_chat)\n"
   ]
  },
  {
   "cell_type": "code",
   "execution_count": 121,
   "id": "5bf11232-b14b-4b7f-9d5b-d6b27ca4ac16",
   "metadata": {},
   "outputs": [
    {
     "data": {
      "text/plain": [
       "['@r_channels', '@AnarchoCapitalism']"
      ]
     },
     "execution_count": 121,
     "metadata": {},
     "output_type": "execute_result"
    }
   ],
   "source": [
    "available_in_range\n"
   ]
  },
  {
   "cell_type": "code",
   "execution_count": 115,
   "id": "63853890-f6e5-4311-b53a-b91c7736ef0c",
   "metadata": {},
   "outputs": [],
   "source": [
    "#close_from = datetime.strptime('27.03.2023 12:30:00', '%d.%m.%Y %H:%M:%S')\n",
    "#close_to = datetime.strptime('27.03.2023 08:30:00', '%d.%m.%Y %H:%M:%S')\n"
   ]
  },
  {
   "cell_type": "code",
   "execution_count": 122,
   "id": "d54ed8cf-7de5-4073-b5f4-4e5cf5e742da",
   "metadata": {},
   "outputs": [
    {
     "data": {
      "text/plain": [
       "[<telethon.tl.patched.Message at 0x1251c4d00>,\n",
       " <telethon.tl.patched.Message at 0x12520b2e0>]"
      ]
     },
     "execution_count": 122,
     "metadata": {},
     "output_type": "execute_result"
    }
   ],
   "source": [
    "#await fetch_bounds(client, \"@q_anons\", start_date, end_date)\n",
    "await fetch_bounds(client, \"@AnarchoCapitalism\", end_date, start_date)\n",
    "\n",
    "#await fetch_bounds(client, \"@q_anons\", close_from, close_to)"
   ]
  },
  {
   "cell_type": "code",
   "execution_count": null,
   "id": "77be5753-45d4-48d5-a109-e04ead056f4c",
   "metadata": {},
   "outputs": [],
   "source": [
    "# ---- DISCONECT CLIENT ----- \n",
    "# await client.log_out()"
   ]
  },
  {
   "cell_type": "code",
   "execution_count": 2,
   "id": "bcbb7914-b11f-44ac-b2a6-38b3b1fa2b47",
   "metadata": {},
   "outputs": [
    {
     "ename": "TypeError",
     "evalue": "getattr expected at least 2 arguments, got 1",
     "output_type": "error",
     "traceback": [
      "\u001b[0;31m---------------------------------------------------------------------------\u001b[0m",
      "\u001b[0;31mTypeError\u001b[0m                                 Traceback (most recent call last)",
      "Cell \u001b[0;32mIn[2], line 2\u001b[0m\n\u001b[1;32m      1\u001b[0m \u001b[38;5;28;01mimport\u001b[39;00m \u001b[38;5;21;01mtelethon\u001b[39;00m\n\u001b[0;32m----> 2\u001b[0m \u001b[38;5;28;43mgetattr\u001b[39;49m\u001b[43m(\u001b[49m\u001b[43mtelethon\u001b[49m\u001b[38;5;241;43m.\u001b[39;49m\u001b[43mtl\u001b[49m\u001b[38;5;241;43m.\u001b[39;49m\u001b[43mtypes\u001b[49m\u001b[43m)\u001b[49m\n",
      "\u001b[0;31mTypeError\u001b[0m: getattr expected at least 2 arguments, got 1"
     ]
    }
   ],
   "source": []
  }
 ],
 "metadata": {
  "kernelspec": {
   "display_name": "Telegram Kernel",
   "language": "python",
   "name": "telegram_kernel"
  },
  "language_info": {
   "codemirror_mode": {
    "name": "ipython",
    "version": 3
   },
   "file_extension": ".py",
   "mimetype": "text/x-python",
   "name": "python",
   "nbconvert_exporter": "python",
   "pygments_lexer": "ipython3",
   "version": "3.9.6"
  }
 },
 "nbformat": 4,
 "nbformat_minor": 5
}
